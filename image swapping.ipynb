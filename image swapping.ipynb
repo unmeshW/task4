{
 "cells": [
  {
   "cell_type": "code",
   "execution_count": 1,
   "id": "461c1f84",
   "metadata": {},
   "outputs": [],
   "source": [
    "import cv2"
   ]
  },
  {
   "cell_type": "code",
   "execution_count": 2,
   "id": "5583f13c",
   "metadata": {},
   "outputs": [],
   "source": [
    "tree = cv2.imread('tree.jpg')"
   ]
  },
  {
   "cell_type": "code",
   "execution_count": 3,
   "id": "4f95e5d9",
   "metadata": {},
   "outputs": [
    {
     "data": {
      "text/plain": [
       "(620, 620, 3)"
      ]
     },
     "execution_count": 3,
     "metadata": {},
     "output_type": "execute_result"
    }
   ],
   "source": [
    "tree.shape"
   ]
  },
  {
   "cell_type": "code",
   "execution_count": 4,
   "id": "9e351d9a",
   "metadata": {},
   "outputs": [],
   "source": [
    "cv2.imshow('tree',tree)\n",
    "cv2.waitKey()\n",
    "cv2.destroyAllWindows()"
   ]
  },
  {
   "cell_type": "code",
   "execution_count": 5,
   "id": "f9938c17",
   "metadata": {},
   "outputs": [],
   "source": [
    "croptree = tree[210:510, 210:410]"
   ]
  },
  {
   "cell_type": "code",
   "execution_count": 6,
   "id": "b4413592",
   "metadata": {},
   "outputs": [],
   "source": [
    "land = cv2.imread('land.jpg')"
   ]
  },
  {
   "cell_type": "code",
   "execution_count": 7,
   "id": "e8e9f1bc",
   "metadata": {},
   "outputs": [
    {
     "data": {
      "text/plain": [
       "(620, 620, 3)"
      ]
     },
     "execution_count": 7,
     "metadata": {},
     "output_type": "execute_result"
    }
   ],
   "source": [
    "land.shape"
   ]
  },
  {
   "cell_type": "code",
   "execution_count": 8,
   "id": "c13fc215",
   "metadata": {},
   "outputs": [],
   "source": [
    "cv2.imshow('land',land)\n",
    "cv2.waitKey()\n",
    "cv2.destroyAllWindows()"
   ]
  },
  {
   "cell_type": "code",
   "execution_count": 9,
   "id": "d83d3568",
   "metadata": {},
   "outputs": [],
   "source": [
    "cropland = land[210:510, 210:410]"
   ]
  },
  {
   "cell_type": "code",
   "execution_count": 10,
   "id": "9b1fcd5b",
   "metadata": {},
   "outputs": [],
   "source": [
    "land[210:510, 210:410] = croptree"
   ]
  },
  {
   "cell_type": "code",
   "execution_count": 11,
   "id": "fc4bc920",
   "metadata": {},
   "outputs": [],
   "source": [
    "new1 = land"
   ]
  },
  {
   "cell_type": "code",
   "execution_count": 12,
   "id": "a189f150",
   "metadata": {},
   "outputs": [],
   "source": [
    "cv2.imshow('new1',new1)\n",
    "cv2.waitKey()\n",
    "cv2.destroyAllWindows()"
   ]
  },
  {
   "cell_type": "code",
   "execution_count": null,
   "id": "cedca9ac",
   "metadata": {},
   "outputs": [],
   "source": []
  }
 ],
 "metadata": {
  "kernelspec": {
   "display_name": "Python 3",
   "language": "python",
   "name": "python3"
  },
  "language_info": {
   "codemirror_mode": {
    "name": "ipython",
    "version": 3
   },
   "file_extension": ".py",
   "mimetype": "text/x-python",
   "name": "python",
   "nbconvert_exporter": "python",
   "pygments_lexer": "ipython3",
   "version": "3.8.8"
  }
 },
 "nbformat": 4,
 "nbformat_minor": 5
}
