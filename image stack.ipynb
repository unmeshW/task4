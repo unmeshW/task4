{
 "cells": [
  {
   "cell_type": "code",
   "execution_count": 1,
   "id": "ed52ebba",
   "metadata": {},
   "outputs": [],
   "source": [
    "import cv2\n",
    "import numpy"
   ]
  },
  {
   "cell_type": "code",
   "execution_count": 2,
   "id": "4be6921e",
   "metadata": {},
   "outputs": [],
   "source": [
    "tree = cv2.imread('tree.jpg')\n",
    "cv2.imshow('tree',tree)\n",
    "cv2.waitKey()\n",
    "cv2.destroyAllWindows()"
   ]
  },
  {
   "cell_type": "code",
   "execution_count": 3,
   "id": "d4884d3b",
   "metadata": {},
   "outputs": [],
   "source": [
    "land = cv2.imread('land.jpg')\n",
    "cv2.imshow('land',land)\n",
    "cv2.waitKey()\n",
    "cv2.destroyAllWindows()"
   ]
  },
  {
   "cell_type": "code",
   "execution_count": 4,
   "id": "4f1f9cc1",
   "metadata": {},
   "outputs": [],
   "source": [
    "himage = numpy.hstack((tree,land))"
   ]
  },
  {
   "cell_type": "code",
   "execution_count": 5,
   "id": "b0124f28",
   "metadata": {},
   "outputs": [],
   "source": [
    "cv2.imshow('hi',himage)\n",
    "cv2.waitKey()\n",
    "cv2.destroyAllWindows()"
   ]
  },
  {
   "cell_type": "code",
   "execution_count": null,
   "id": "98471d85",
   "metadata": {},
   "outputs": [],
   "source": []
  }
 ],
 "metadata": {
  "kernelspec": {
   "display_name": "Python 3",
   "language": "python",
   "name": "python3"
  },
  "language_info": {
   "codemirror_mode": {
    "name": "ipython",
    "version": 3
   },
   "file_extension": ".py",
   "mimetype": "text/x-python",
   "name": "python",
   "nbconvert_exporter": "python",
   "pygments_lexer": "ipython3",
   "version": "3.8.8"
  }
 },
 "nbformat": 4,
 "nbformat_minor": 5
}
